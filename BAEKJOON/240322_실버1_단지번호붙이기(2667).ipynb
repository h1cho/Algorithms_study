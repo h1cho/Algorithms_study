{
 "cells": [
  {
   "cell_type": "markdown",
   "id": "b5fd7078",
   "metadata": {},
   "source": [
    "# 단지번호붙이기\n",
    "- 백준 2667번 (실버1)\n",
    "- https://www.acmicpc.net/problem/2667"
   ]
  },
  {
   "attachments": {
    "image.png": {
     "image/png": "[encoded data removed]"
    }
   },
   "cell_type": "markdown",
   "id": "a1c6431c",
   "metadata": {},
   "source": [
    "## [문제]\n",
    "\n",
    "<그림 1>과 같이 정사각형 모양의 지도가 있다. 1은 집이 있는 곳을, 0은 집이 없는 곳을 나타낸다. 철수는 이 지도를 가지고 연결된 집의 모임인 단지를 정의하고, 단지에 번호를 붙이려 한다. 여기서 연결되었다는 것은 어떤 집이 좌우, 혹은 아래위로 다른 집이 있는 경우를 말한다. 대각선상에 집이 있는 경우는 연결된 것이 아니다. <그림 2>는 <그림 1>을 단지별로 번호를 붙인 것이다. 지도를 입력하여 단지수를 출력하고, 각 단지에 속하는 집의 수를 오름차순으로 정렬하여 출력하는 프로그램을 작성하시오.\n",
    "\n",
    "![image.png](attachment:image.png)"
   ]
  },
  {
   "cell_type": "markdown",
   "id": "155aef63",
   "metadata": {},
   "source": [
    "## [입력]\n",
    "\n",
    "첫 번째 줄에는 지도의 크기 N(정사각형이므로 가로와 세로의 크기는 같으며 5≤N≤25)이 입력되고, 그 다음 N줄에는 각각 N개의 자료(0혹은 1)가 입력된다."
   ]
  },
  {
   "cell_type": "markdown",
   "id": "006f00af",
   "metadata": {},
   "source": [
    "## [출력]\n",
    "\n",
    "첫 번째 줄에는 총 단지수를 출력하시오. 그리고 각 단지내 집의 수를 오름차순으로 정렬하여 한 줄에 하나씩 출력하시오."
   ]
  },
  {
   "cell_type": "markdown",
   "id": "d7e46e9e",
   "metadata": {},
   "source": [
    "## [예제]\n",
    "\n",
    "**예제 1**\n",
    "\n",
    "입력\n",
    "```\n",
    "7\n",
    "0110100\n",
    "0110101\n",
    "1110101\n",
    "0000111\n",
    "0100000\n",
    "0111110\n",
    "0111000\n",
    "```\n",
    "\n",
    "출력\n",
    "```\n",
    "3\n",
    "7\n",
    "8\n",
    "9\n",
    "```"
   ]
  },
  {
   "cell_type": "markdown",
   "id": "98822574",
   "metadata": {},
   "source": [
    "## [풀이]"
   ]
  },
  {
   "cell_type": "code",
   "execution_count": 21,
   "id": "560eb26b",
   "metadata": {
    "ExecuteTime": {
     "end_time": "2024-03-21T17:58:25.083750Z",
     "start_time": "2024-03-21T17:58:25.042630Z"
    }
   },
   "outputs": [],
   "source": [
    "n = 7\n",
    "maps = [\n",
    "    '0110100',\n",
    "    '0110101',\n",
    "    '1110101',\n",
    "    '0000111',\n",
    "    '0100000',\n",
    "    '0111110',\n",
    "    '0111000'\n",
    "]"
   ]
  },
  {
   "cell_type": "code",
   "execution_count": 22,
   "id": "69e03703",
   "metadata": {},
   "outputs": [
    {
     "name": "stdout",
     "output_type": "stream",
     "text": [
      "3\n",
      "7\n",
      "8\n",
      "9\n"
     ]
    }
   ],
   "source": [
    "from collections import deque\n",
    "\n",
    "n = int(input())\n",
    "maps = [input() for _ in range(n)]\n",
    "\n",
    "visited = [[0 for _ in range(n)] for __ in range(n)]\n",
    "queue = deque()\n",
    "danji = []\n",
    "\n",
    "for y in range(n):\n",
    "    for x in range(n):\n",
    "        if visited[y][x] == 1:\n",
    "            continue\n",
    "        \n",
    "        visited[y][x] = 1\n",
    "        if maps[y][x] == '1':\n",
    "            queue.append([y,x])\n",
    "            cnt = 0\n",
    "            direction = [(0,1),(0,-1),(1,0),(-1,0)]\n",
    "            while queue:\n",
    "                now_y, now_x = queue.popleft()\n",
    "                cnt += 1\n",
    "                for d in direction:\n",
    "                    next_x = now_x + d[0]\n",
    "                    next_y = now_y + d[1]\n",
    "                    if 0 <= next_x < n and 0 <= next_y < n and maps[next_y][next_x]=='1' and visited[next_y][next_x]==0:\n",
    "                        queue.append([next_y, next_x])\n",
    "                        visited[next_y][next_x] = 1\n",
    "            danji.append(cnt)\n",
    "\n",
    "print(len(danji))\n",
    "for i in sorted(danji):\n",
    "    print(i)"
   ]
  }
 ],
 "metadata": {
  "kernelspec": {
   "display_name": "Python 3 (ipykernel)",
   "language": "python",
   "name": "python3"
  },
  "language_info": {
   "codemirror_mode": {
    "name": "ipython",
    "version": 3
   },
   "file_extension": ".py",
   "mimetype": "text/x-python",
   "name": "python",
   "nbconvert_exporter": "python",
   "pygments_lexer": "ipython3",
   "version": "3.11.7"
  },
  "toc": {
   "base_numbering": 1,
   "nav_menu": {},
   "number_sections": false,
   "sideBar": true,
   "skip_h1_title": false,
   "title_cell": "Table of Contents",
   "title_sidebar": "Contents",
   "toc_cell": false,
   "toc_position": {},
   "toc_section_display": true,
   "toc_window_display": false
  }
 },
 "nbformat": 4,
 "nbformat_minor": 5
}
